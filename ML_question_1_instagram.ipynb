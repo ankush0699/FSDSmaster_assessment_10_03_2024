{
  "cells": [
    {
      "cell_type": "code",
      "execution_count": 1,
      "id": "965ffa46",
      "metadata": {
        "execution": {
          "iopub.execute_input": "2023-05-21T19:09:51.482850Z",
          "iopub.status.busy": "2023-05-21T19:09:51.481719Z",
          "iopub.status.idle": "2023-05-21T19:09:54.075693Z",
          "shell.execute_reply": "2023-05-21T19:09:54.074824Z"
        },
        "id": "965ffa46",
        "papermill": {
          "duration": 2.607145,
          "end_time": "2023-05-21T19:09:54.078215",
          "exception": false,
          "start_time": "2023-05-21T19:09:51.471070",
          "status": "completed"
        },
        "tags": []
      },
      "outputs": [],
      "source": [
        "## Import the necessary libraries:-\n",
        "\n",
        "import pandas as pd\n",
        "import numpy as np\n",
        "from sklearn.model_selection import train_test_split\n",
        "from sklearn.linear_model import LinearRegression\n",
        "from sklearn.metrics import mean_squared_error\n",
        "from sklearn.preprocessing import OneHotEncoder\n",
        "import re\n",
        "import matplotlib.pyplot as plt\n",
        "import seaborn as sns\n",
        "import plotly.express as px\n",
        "from wordcloud import WordCloud, STOPWORDS, ImageColorGenerator\n",
        "import warnings\n",
        "warnings.filterwarnings('ignore')\n"
      ]
    },
    {
      "cell_type": "code",
      "execution_count": 2,
      "id": "b3ea7c5d",
      "metadata": {
        "execution": {
          "iopub.execute_input": "2023-05-21T19:09:54.099090Z",
          "iopub.status.busy": "2023-05-21T19:09:54.098647Z",
          "iopub.status.idle": "2023-05-21T19:09:54.127514Z",
          "shell.execute_reply": "2023-05-21T19:09:54.126397Z"
        },
        "id": "b3ea7c5d",
        "papermill": {
          "duration": 0.042662,
          "end_time": "2023-05-21T19:09:54.130479",
          "exception": false,
          "start_time": "2023-05-21T19:09:54.087817",
          "status": "completed"
        },
        "tags": []
      },
      "outputs": [],
      "source": [
        "## Load the dataset using pandas:\n",
        "data = pd.read_csv(r\"C:\\\\FSDS\\\\Assessment\\\\FSDSmaster_assessment_10_03_2024\\\\notebooks\\\\data\\\\instagram.csv\")\n"
      ]
    },
    {
      "cell_type": "code",
      "execution_count": 3,
      "id": "93e96fc0",
      "metadata": {
        "execution": {
          "iopub.execute_input": "2023-05-21T19:09:54.151751Z",
          "iopub.status.busy": "2023-05-21T19:09:54.150962Z",
          "iopub.status.idle": "2023-05-21T19:09:54.187602Z",
          "shell.execute_reply": "2023-05-21T19:09:54.186639Z"
        },
        "id": "93e96fc0",
        "outputId": "fee0b7cb-f02c-42ea-c917-82194a57fae1",
        "papermill": {
          "duration": 0.050095,
          "end_time": "2023-05-21T19:09:54.190089",
          "exception": false,
          "start_time": "2023-05-21T19:09:54.139994",
          "status": "completed"
        },
        "tags": []
      },
      "outputs": [
        {
          "data": {
            "text/html": [
              "<div>\n",
              "<style scoped>\n",
              "    .dataframe tbody tr th:only-of-type {\n",
              "        vertical-align: middle;\n",
              "    }\n",
              "\n",
              "    .dataframe tbody tr th {\n",
              "        vertical-align: top;\n",
              "    }\n",
              "\n",
              "    .dataframe thead th {\n",
              "        text-align: right;\n",
              "    }\n",
              "</style>\n",
              "<table border=\"1\" class=\"dataframe\">\n",
              "  <thead>\n",
              "    <tr style=\"text-align: right;\">\n",
              "      <th></th>\n",
              "      <th>Unnamed: 0</th>\n",
              "      <th>S.No</th>\n",
              "      <th>USERNAME</th>\n",
              "      <th>Caption</th>\n",
              "      <th>Followers</th>\n",
              "      <th>Hashtags</th>\n",
              "      <th>Time since posted</th>\n",
              "      <th>Likes</th>\n",
              "    </tr>\n",
              "  </thead>\n",
              "  <tbody>\n",
              "    <tr>\n",
              "      <th>0</th>\n",
              "      <td>0</td>\n",
              "      <td>1</td>\n",
              "      <td>mikequindazzi</td>\n",
              "      <td>Who are #DataScientist and what do they do? &gt;&gt;...</td>\n",
              "      <td>1600</td>\n",
              "      <td>#MachineLearning #AI #DataAnalytics #DataScien...</td>\n",
              "      <td>11 hours</td>\n",
              "      <td>139</td>\n",
              "    </tr>\n",
              "    <tr>\n",
              "      <th>1</th>\n",
              "      <td>1</td>\n",
              "      <td>2</td>\n",
              "      <td>drgorillapaints</td>\n",
              "      <td>We all know where it’s going. We just have to ...</td>\n",
              "      <td>880</td>\n",
              "      <td>#deck .#mac #macintosh#sayhello #apple #steve...</td>\n",
              "      <td>2 hours</td>\n",
              "      <td>23</td>\n",
              "    </tr>\n",
              "    <tr>\n",
              "      <th>2</th>\n",
              "      <td>2</td>\n",
              "      <td>3</td>\n",
              "      <td>aitrading_official</td>\n",
              "      <td>Alexander Barinov: 4 years as CFO in multinati...</td>\n",
              "      <td>255</td>\n",
              "      <td>#whoiswho #aitrading #ai #aitradingteam#instat...</td>\n",
              "      <td>2 hours</td>\n",
              "      <td>25</td>\n",
              "    </tr>\n",
              "    <tr>\n",
              "      <th>3</th>\n",
              "      <td>3</td>\n",
              "      <td>4</td>\n",
              "      <td>opensourcedworkplace</td>\n",
              "      <td>sfad</td>\n",
              "      <td>340</td>\n",
              "      <td>#iot #cre#workplace #CDO #bigdata #technology#...</td>\n",
              "      <td>3 hours</td>\n",
              "      <td>49</td>\n",
              "    </tr>\n",
              "    <tr>\n",
              "      <th>4</th>\n",
              "      <td>4</td>\n",
              "      <td>5</td>\n",
              "      <td>crea.vision</td>\n",
              "      <td>Ever missed a call while your phone was chargi...</td>\n",
              "      <td>304</td>\n",
              "      <td>#instamachinelearning #instabigdata#instamarke...</td>\n",
              "      <td>3 hours</td>\n",
              "      <td>30</td>\n",
              "    </tr>\n",
              "  </tbody>\n",
              "</table>\n",
              "</div>"
            ],
            "text/plain": [
              "   Unnamed: 0  S.No              USERNAME  \\\n",
              "0           0     1         mikequindazzi   \n",
              "1           1     2       drgorillapaints   \n",
              "2           2     3    aitrading_official   \n",
              "3           3     4  opensourcedworkplace   \n",
              "4           4     5           crea.vision   \n",
              "\n",
              "                                             Caption  Followers  \\\n",
              "0  Who are #DataScientist and what do they do? >>...       1600   \n",
              "1  We all know where it’s going. We just have to ...        880   \n",
              "2  Alexander Barinov: 4 years as CFO in multinati...        255   \n",
              "3                                               sfad        340   \n",
              "4  Ever missed a call while your phone was chargi...        304   \n",
              "\n",
              "                                            Hashtags Time since posted  Likes  \n",
              "0  #MachineLearning #AI #DataAnalytics #DataScien...          11 hours    139  \n",
              "1   #deck .#mac #macintosh#sayhello #apple #steve...           2 hours     23  \n",
              "2  #whoiswho #aitrading #ai #aitradingteam#instat...           2 hours     25  \n",
              "3  #iot #cre#workplace #CDO #bigdata #technology#...           3 hours     49  \n",
              "4  #instamachinelearning #instabigdata#instamarke...           3 hours     30  "
            ]
          },
          "execution_count": 3,
          "metadata": {},
          "output_type": "execute_result"
        }
      ],
      "source": [
        "## Checking top 5 rows\n",
        "data.head()"
      ]
    },
    {
      "cell_type": "code",
      "execution_count": 4,
      "id": "fcb51024",
      "metadata": {
        "execution": {
          "iopub.execute_input": "2023-05-21T19:09:54.212769Z",
          "iopub.status.busy": "2023-05-21T19:09:54.211966Z",
          "iopub.status.idle": "2023-05-21T19:09:54.218744Z",
          "shell.execute_reply": "2023-05-21T19:09:54.217826Z"
        },
        "id": "fcb51024",
        "outputId": "ba10488a-bc49-4aef-9d45-601d1a3902c6",
        "papermill": {
          "duration": 0.021259,
          "end_time": "2023-05-21T19:09:54.221054",
          "exception": false,
          "start_time": "2023-05-21T19:09:54.199795",
          "status": "completed"
        },
        "tags": []
      },
      "outputs": [
        {
          "data": {
            "text/plain": [
              "(100, 8)"
            ]
          },
          "execution_count": 4,
          "metadata": {},
          "output_type": "execute_result"
        }
      ],
      "source": [
        "## Checking Rows & Columns Availabale in Dataset\n",
        "data.shape"
      ]
    },
    {
      "cell_type": "code",
      "execution_count": 5,
      "id": "e0fd8a8d",
      "metadata": {
        "execution": {
          "iopub.execute_input": "2023-05-21T19:09:54.243493Z",
          "iopub.status.busy": "2023-05-21T19:09:54.242675Z",
          "iopub.status.idle": "2023-05-21T19:09:54.270867Z",
          "shell.execute_reply": "2023-05-21T19:09:54.269632Z"
        },
        "id": "e0fd8a8d",
        "outputId": "ccdfdbc5-7c97-4556-fffa-c153de28492e",
        "papermill": {
          "duration": 0.042401,
          "end_time": "2023-05-21T19:09:54.273450",
          "exception": false,
          "start_time": "2023-05-21T19:09:54.231049",
          "status": "completed"
        },
        "tags": []
      },
      "outputs": [
        {
          "name": "stdout",
          "output_type": "stream",
          "text": [
            "<class 'pandas.core.frame.DataFrame'>\n",
            "RangeIndex: 100 entries, 0 to 99\n",
            "Data columns (total 8 columns):\n",
            " #   Column             Non-Null Count  Dtype \n",
            "---  ------             --------------  ----- \n",
            " 0   Unnamed: 0         100 non-null    int64 \n",
            " 1   S.No               100 non-null    int64 \n",
            " 2   USERNAME           100 non-null    object\n",
            " 3   Caption            94 non-null     object\n",
            " 4   Followers          100 non-null    int64 \n",
            " 5   Hashtags           100 non-null    object\n",
            " 6   Time since posted  100 non-null    object\n",
            " 7   Likes              100 non-null    int64 \n",
            "dtypes: int64(4), object(4)\n",
            "memory usage: 6.4+ KB\n"
          ]
        }
      ],
      "source": [
        "## Checking Details Information related with Dataset\n",
        "data.info()"
      ]
    },
    {
      "cell_type": "code",
      "execution_count": 6,
      "id": "f90f90e3",
      "metadata": {
        "execution": {
          "iopub.execute_input": "2023-05-21T19:09:54.296264Z",
          "iopub.status.busy": "2023-05-21T19:09:54.295849Z",
          "iopub.status.idle": "2023-05-21T19:09:54.304423Z",
          "shell.execute_reply": "2023-05-21T19:09:54.303221Z"
        },
        "id": "f90f90e3",
        "outputId": "3ecbd982-da10-4dad-861d-0a57865010e2",
        "papermill": {
          "duration": 0.022985,
          "end_time": "2023-05-21T19:09:54.306840",
          "exception": false,
          "start_time": "2023-05-21T19:09:54.283855",
          "status": "completed"
        },
        "tags": []
      },
      "outputs": [
        {
          "data": {
            "text/plain": [
              "Unnamed: 0           0\n",
              "S.No                 0\n",
              "USERNAME             0\n",
              "Caption              6\n",
              "Followers            0\n",
              "Hashtags             0\n",
              "Time since posted    0\n",
              "Likes                0\n",
              "dtype: int64"
            ]
          },
          "execution_count": 6,
          "metadata": {},
          "output_type": "execute_result"
        }
      ],
      "source": [
        "## Checking Null Values\n",
        "data.isnull().sum()"
      ]
    },
    {
      "cell_type": "code",
      "execution_count": 7,
      "id": "dfb46f4d",
      "metadata": {
        "execution": {
          "iopub.execute_input": "2023-05-21T19:09:54.328871Z",
          "iopub.status.busy": "2023-05-21T19:09:54.328486Z",
          "iopub.status.idle": "2023-05-21T19:09:54.336644Z",
          "shell.execute_reply": "2023-05-21T19:09:54.335347Z"
        },
        "id": "dfb46f4d",
        "papermill": {
          "duration": 0.022668,
          "end_time": "2023-05-21T19:09:54.339471",
          "exception": false,
          "start_time": "2023-05-21T19:09:54.316803",
          "status": "completed"
        },
        "tags": []
      },
      "outputs": [],
      "source": [
        "## Droping Null Value\n",
        "data = data.dropna()"
      ]
    },
    {
      "cell_type": "code",
      "execution_count": 8,
      "id": "ed81ad69",
      "metadata": {
        "execution": {
          "iopub.execute_input": "2023-05-21T19:09:54.361648Z",
          "iopub.status.busy": "2023-05-21T19:09:54.361248Z",
          "iopub.status.idle": "2023-05-21T19:09:54.370106Z",
          "shell.execute_reply": "2023-05-21T19:09:54.369280Z"
        },
        "id": "ed81ad69",
        "outputId": "7d1b2e18-f93c-4554-a5c7-976cd5f7b63b",
        "papermill": {
          "duration": 0.023001,
          "end_time": "2023-05-21T19:09:54.372684",
          "exception": false,
          "start_time": "2023-05-21T19:09:54.349683",
          "status": "completed"
        },
        "tags": []
      },
      "outputs": [
        {
          "data": {
            "text/plain": [
              "Unnamed: 0           0\n",
              "S.No                 0\n",
              "USERNAME             0\n",
              "Caption              0\n",
              "Followers            0\n",
              "Hashtags             0\n",
              "Time since posted    0\n",
              "Likes                0\n",
              "dtype: int64"
            ]
          },
          "execution_count": 8,
          "metadata": {},
          "output_type": "execute_result"
        }
      ],
      "source": [
        "## Checking Again Null Values whether Null Value Drop or Not\n",
        "data.isnull().sum()"
      ]
    },
    {
      "cell_type": "code",
      "execution_count": 9,
      "id": "00e247f5",
      "metadata": {
        "execution": {
          "iopub.execute_input": "2023-05-21T19:09:54.395675Z",
          "iopub.status.busy": "2023-05-21T19:09:54.395272Z",
          "iopub.status.idle": "2023-05-21T19:09:54.403340Z",
          "shell.execute_reply": "2023-05-21T19:09:54.402087Z"
        },
        "id": "00e247f5",
        "outputId": "1f088102-d490-40d4-e6fa-03252bc4e7df",
        "papermill": {
          "duration": 0.022754,
          "end_time": "2023-05-21T19:09:54.405859",
          "exception": false,
          "start_time": "2023-05-21T19:09:54.383105",
          "status": "completed"
        },
        "tags": []
      },
      "outputs": [
        {
          "data": {
            "text/plain": [
              "Index(['Unnamed: 0', 'S.No', 'USERNAME', 'Caption', 'Followers', 'Hashtags',\n",
              "       'Time since posted', 'Likes'],\n",
              "      dtype='object')"
            ]
          },
          "execution_count": 9,
          "metadata": {},
          "output_type": "execute_result"
        }
      ],
      "source": [
        "## Checking All Columns name present in dataset\n",
        "data.columns"
      ]
    },
    {
      "cell_type": "code",
      "execution_count": 10,
      "id": "2db98e0b",
      "metadata": {
        "execution": {
          "iopub.execute_input": "2023-05-21T19:09:54.429572Z",
          "iopub.status.busy": "2023-05-21T19:09:54.428790Z",
          "iopub.status.idle": "2023-05-21T19:09:54.441408Z",
          "shell.execute_reply": "2023-05-21T19:09:54.440328Z"
        },
        "id": "2db98e0b",
        "outputId": "80d14874-344e-4767-baaf-bee15fe91800",
        "papermill": {
          "duration": 0.027333,
          "end_time": "2023-05-21T19:09:54.443865",
          "exception": false,
          "start_time": "2023-05-21T19:09:54.416532",
          "status": "completed"
        },
        "tags": []
      },
      "outputs": [
        {
          "data": {
            "text/html": [
              "<div>\n",
              "<style scoped>\n",
              "    .dataframe tbody tr th:only-of-type {\n",
              "        vertical-align: middle;\n",
              "    }\n",
              "\n",
              "    .dataframe tbody tr th {\n",
              "        vertical-align: top;\n",
              "    }\n",
              "\n",
              "    .dataframe thead th {\n",
              "        text-align: right;\n",
              "    }\n",
              "</style>\n",
              "<table border=\"1\" class=\"dataframe\">\n",
              "  <thead>\n",
              "    <tr style=\"text-align: right;\">\n",
              "      <th></th>\n",
              "      <th>Unnamed: 0</th>\n",
              "      <th>S.No</th>\n",
              "      <th>USERNAME</th>\n",
              "      <th>Caption</th>\n",
              "      <th>Followers</th>\n",
              "      <th>Hashtags</th>\n",
              "      <th>Time since posted</th>\n",
              "      <th>Likes</th>\n",
              "    </tr>\n",
              "  </thead>\n",
              "  <tbody>\n",
              "    <tr>\n",
              "      <th>0</th>\n",
              "      <td>0</td>\n",
              "      <td>1</td>\n",
              "      <td>mikequindazzi</td>\n",
              "      <td>Who are #DataScientist and what do they do? &gt;&gt;...</td>\n",
              "      <td>1600</td>\n",
              "      <td>#MachineLearning #AI #DataAnalytics #DataScien...</td>\n",
              "      <td>11 hours</td>\n",
              "      <td>139</td>\n",
              "    </tr>\n",
              "    <tr>\n",
              "      <th>1</th>\n",
              "      <td>1</td>\n",
              "      <td>2</td>\n",
              "      <td>drgorillapaints</td>\n",
              "      <td>We all know where it’s going. We just have to ...</td>\n",
              "      <td>880</td>\n",
              "      <td>#deck .#mac #macintosh#sayhello #apple #steve...</td>\n",
              "      <td>2 hours</td>\n",
              "      <td>23</td>\n",
              "    </tr>\n",
              "  </tbody>\n",
              "</table>\n",
              "</div>"
            ],
            "text/plain": [
              "   Unnamed: 0  S.No         USERNAME  \\\n",
              "0           0     1    mikequindazzi   \n",
              "1           1     2  drgorillapaints   \n",
              "\n",
              "                                             Caption  Followers  \\\n",
              "0  Who are #DataScientist and what do they do? >>...       1600   \n",
              "1  We all know where it’s going. We just have to ...        880   \n",
              "\n",
              "                                            Hashtags Time since posted  Likes  \n",
              "0  #MachineLearning #AI #DataAnalytics #DataScien...          11 hours    139  \n",
              "1   #deck .#mac #macintosh#sayhello #apple #steve...           2 hours     23  "
            ]
          },
          "execution_count": 10,
          "metadata": {},
          "output_type": "execute_result"
        }
      ],
      "source": [
        "## checking top 2 rows of dataset\n",
        "data.head(2)"
      ]
    },
    {
      "cell_type": "code",
      "execution_count": 11,
      "id": "b090fbd9",
      "metadata": {
        "execution": {
          "iopub.execute_input": "2023-05-21T19:09:54.467366Z",
          "iopub.status.busy": "2023-05-21T19:09:54.466854Z",
          "iopub.status.idle": "2023-05-21T19:09:54.473438Z",
          "shell.execute_reply": "2023-05-21T19:09:54.472288Z"
        },
        "id": "b090fbd9",
        "papermill": {
          "duration": 0.021181,
          "end_time": "2023-05-21T19:09:54.475721",
          "exception": false,
          "start_time": "2023-05-21T19:09:54.454540",
          "status": "completed"
        },
        "tags": []
      },
      "outputs": [],
      "source": [
        "# Remove unnecessary columns\n",
        "data= data.drop(['Unnamed: 0', 'S.No'], axis=1)"
      ]
    },
    {
      "cell_type": "code",
      "execution_count": 12,
      "id": "23c72dc7",
      "metadata": {
        "execution": {
          "iopub.execute_input": "2023-05-21T19:09:54.499100Z",
          "iopub.status.busy": "2023-05-21T19:09:54.498682Z",
          "iopub.status.idle": "2023-05-21T19:09:54.505688Z",
          "shell.execute_reply": "2023-05-21T19:09:54.504605Z"
        },
        "id": "23c72dc7",
        "outputId": "a2a54d12-a14b-4a78-f204-b1ae69421ed3",
        "papermill": {
          "duration": 0.021407,
          "end_time": "2023-05-21T19:09:54.508103",
          "exception": false,
          "start_time": "2023-05-21T19:09:54.486696",
          "status": "completed"
        },
        "tags": []
      },
      "outputs": [
        {
          "data": {
            "text/plain": [
              "Index(['USERNAME', 'Caption', 'Followers', 'Hashtags', 'Time since posted',\n",
              "       'Likes'],\n",
              "      dtype='object')"
            ]
          },
          "execution_count": 12,
          "metadata": {},
          "output_type": "execute_result"
        }
      ],
      "source": [
        "## Checking All Columns name present in Dataset\n",
        "data.columns"
      ]
    },
    {
      "cell_type": "code",
      "execution_count": 13,
      "id": "af29eb38",
      "metadata": {
        "execution": {
          "iopub.execute_input": "2023-05-21T19:09:54.532275Z",
          "iopub.status.busy": "2023-05-21T19:09:54.531865Z",
          "iopub.status.idle": "2023-05-21T19:09:54.544257Z",
          "shell.execute_reply": "2023-05-21T19:09:54.543322Z"
        },
        "id": "af29eb38",
        "outputId": "9eca3995-dec6-438e-a894-5904eb2f3dea",
        "papermill": {
          "duration": 0.027488,
          "end_time": "2023-05-21T19:09:54.546438",
          "exception": false,
          "start_time": "2023-05-21T19:09:54.518950",
          "status": "completed"
        },
        "tags": []
      },
      "outputs": [
        {
          "data": {
            "text/html": [
              "<div>\n",
              "<style scoped>\n",
              "    .dataframe tbody tr th:only-of-type {\n",
              "        vertical-align: middle;\n",
              "    }\n",
              "\n",
              "    .dataframe tbody tr th {\n",
              "        vertical-align: top;\n",
              "    }\n",
              "\n",
              "    .dataframe thead th {\n",
              "        text-align: right;\n",
              "    }\n",
              "</style>\n",
              "<table border=\"1\" class=\"dataframe\">\n",
              "  <thead>\n",
              "    <tr style=\"text-align: right;\">\n",
              "      <th></th>\n",
              "      <th>USERNAME</th>\n",
              "      <th>Caption</th>\n",
              "      <th>Followers</th>\n",
              "      <th>Hashtags</th>\n",
              "      <th>Time since posted</th>\n",
              "      <th>Likes</th>\n",
              "    </tr>\n",
              "  </thead>\n",
              "  <tbody>\n",
              "    <tr>\n",
              "      <th>0</th>\n",
              "      <td>mikequindazzi</td>\n",
              "      <td>Who are #DataScientist and what do they do? &gt;&gt;...</td>\n",
              "      <td>1600</td>\n",
              "      <td>#MachineLearning #AI #DataAnalytics #DataScien...</td>\n",
              "      <td>11 hours</td>\n",
              "      <td>139</td>\n",
              "    </tr>\n",
              "    <tr>\n",
              "      <th>1</th>\n",
              "      <td>drgorillapaints</td>\n",
              "      <td>We all know where it’s going. We just have to ...</td>\n",
              "      <td>880</td>\n",
              "      <td>#deck .#mac #macintosh#sayhello #apple #steve...</td>\n",
              "      <td>2 hours</td>\n",
              "      <td>23</td>\n",
              "    </tr>\n",
              "    <tr>\n",
              "      <th>2</th>\n",
              "      <td>aitrading_official</td>\n",
              "      <td>Alexander Barinov: 4 years as CFO in multinati...</td>\n",
              "      <td>255</td>\n",
              "      <td>#whoiswho #aitrading #ai #aitradingteam#instat...</td>\n",
              "      <td>2 hours</td>\n",
              "      <td>25</td>\n",
              "    </tr>\n",
              "  </tbody>\n",
              "</table>\n",
              "</div>"
            ],
            "text/plain": [
              "             USERNAME                                            Caption  \\\n",
              "0       mikequindazzi  Who are #DataScientist and what do they do? >>...   \n",
              "1     drgorillapaints  We all know where it’s going. We just have to ...   \n",
              "2  aitrading_official  Alexander Barinov: 4 years as CFO in multinati...   \n",
              "\n",
              "   Followers                                           Hashtags  \\\n",
              "0       1600  #MachineLearning #AI #DataAnalytics #DataScien...   \n",
              "1        880   #deck .#mac #macintosh#sayhello #apple #steve...   \n",
              "2        255  #whoiswho #aitrading #ai #aitradingteam#instat...   \n",
              "\n",
              "  Time since posted  Likes  \n",
              "0          11 hours    139  \n",
              "1           2 hours     23  \n",
              "2           2 hours     25  "
            ]
          },
          "execution_count": 13,
          "metadata": {},
          "output_type": "execute_result"
        }
      ],
      "source": [
        "## Checking top 3 rows of dataset After droping unnecessary columns\n",
        "data.head(3)"
      ]
    },
    {
      "cell_type": "markdown",
      "id": "9a82a33c",
      "metadata": {
        "id": "9a82a33c",
        "papermill": {
          "duration": 0.011373,
          "end_time": "2023-05-21T19:09:54.568977",
          "exception": false,
          "start_time": "2023-05-21T19:09:54.557604",
          "status": "completed"
        },
        "tags": []
      },
      "source": [
        "## Doing EDA and Analyzing Instagram Reach"
      ]
    },
    {
      "cell_type": "code",
      "execution_count": 14,
      "id": "c106c8df",
      "metadata": {
        "execution": {
          "iopub.execute_input": "2023-05-21T19:09:54.593656Z",
          "iopub.status.busy": "2023-05-21T19:09:54.593251Z",
          "iopub.status.idle": "2023-05-21T19:09:54.974926Z",
          "shell.execute_reply": "2023-05-21T19:09:54.973799Z"
        },
        "id": "c106c8df",
        "outputId": "3436a98d-400b-481a-81d8-f1713ed37190",
        "papermill": {
          "duration": 0.397637,
          "end_time": "2023-05-21T19:09:54.977843",
          "exception": false,
          "start_time": "2023-05-21T19:09:54.580206",
          "status": "completed"
        },
        "tags": []
      },
      "outputs": [
        {
          "data": {
            "image/png": "[encoded data removed]",
            "text/plain": [
              "<Figure size 1000x800 with 1 Axes>"
            ]
          },
          "metadata": {},
          "output_type": "display_data"
        }
      ],
      "source": [
        "## Distribution of Impressions From Followers\n",
        "\n",
        "plt.figure(figsize=(10, 8))\n",
        "plt.style.use('fivethirtyeight')\n",
        "plt.title(\"Distribution of Impressions From Followers\")\n",
        "sns.distplot(data['Followers'])\n",
        "plt.show()\n"
      ]
    },
    {
      "cell_type": "code",
      "execution_count": 15,
      "id": "d1099a2a",
      "metadata": {
        "execution": {
          "iopub.execute_input": "2023-05-21T19:09:55.003449Z",
          "iopub.status.busy": "2023-05-21T19:09:55.003060Z",
          "iopub.status.idle": "2023-05-21T19:09:55.366439Z",
          "shell.execute_reply": "2023-05-21T19:09:55.364976Z"
        },
        "id": "d1099a2a",
        "outputId": "db89d4df-e888-46b9-fa2a-f92de3acdc8a",
        "papermill": {
          "duration": 0.380616,
          "end_time": "2023-05-21T19:09:55.370317",
          "exception": false,
          "start_time": "2023-05-21T19:09:54.989701",
          "status": "completed"
        },
        "tags": []
      },
      "outputs": [
        {
          "data": {
            "image/png": "[encoded data removed]",
            "text/plain": [
              "<Figure size 1000x800 with 1 Axes>"
            ]
          },
          "metadata": {},
          "output_type": "display_data"
        }
      ],
      "source": [
        "## Distribution of Impressions From Likes\n",
        "\n",
        "plt.figure(figsize=(10, 8))\n",
        "plt.title(\"Distribution of Impressions From Likes\")\n",
        "sns.distplot(data['Likes'])\n",
        "plt.show()\n"
      ]
    },
    {
      "cell_type": "code",
      "execution_count": 16,
      "id": "7c396332",
      "metadata": {
        "execution": {
          "iopub.execute_input": "2023-05-21T19:09:55.398117Z",
          "iopub.status.busy": "2023-05-21T19:09:55.397364Z",
          "iopub.status.idle": "2023-05-21T19:09:57.344055Z",
          "shell.execute_reply": "2023-05-21T19:09:57.343193Z"
        },
        "id": "7c396332",
        "outputId": "43ecd072-0bf6-45be-d83e-018e5305bb82",
        "papermill": {
          "duration": 1.962956,
          "end_time": "2023-05-21T19:09:57.346236",
          "exception": false,
          "start_time": "2023-05-21T19:09:55.383280",
          "status": "completed"
        },
        "tags": []
      },
      "outputs": [
        {
          "data": {
            "application/vnd.plotly.v1+json": {
              "config": {
                "plotlyServerURL": "https://plot.ly"
              },
              "data": [
                {
                  "domain": {
                    "x": [
                      0,
                      1
                    ],
                    "y": [
                      0,
                      1
                    ]
                  },
                  "hole": 0.5,
                  "hovertemplate": "label=%{label}<br>value=%{value}<extra></extra>",
                  "labels": [
                    "Followers",
                    "Likes"
                  ],
                  "legendgroup": "",
                  "name": "",
                  "showlegend": true,
                  "type": "pie",
                  "values": [
                    88607,
                    4501
                  ]
                }
              ],
              "layout": {
                "legend": {
                  "tracegroupgap": 0
                },
                "template": {
                  "data": {
                    "bar": [
                      {
                        "error_x": {
                          "color": "#2a3f5f"
                        },
                        "error_y": {
                          "color": "#2a3f5f"
                        },
                        "marker": {
                          "line": {
                            "color": "#E5ECF6",
                            "width": 0.5
                          },
                          "pattern": {
                            "fillmode": "overlay",
                            "size": 10,
                            "solidity": 0.2
                          }
                        },
                        "type": "bar"
                      }
                    ],
                    "barpolar": [
                      {
                        "marker": {
                          "line": {
                            "color": "#E5ECF6",
                            "width": 0.5
                          },
                          "pattern": {
                            "fillmode": "overlay",
                            "size": 10,
                            "solidity": 0.2
                          }
                        },
                        "type": "barpolar"
                      }
                    ],
                    "carpet": [
                      {
                        "aaxis": {
                          "endlinecolor": "#2a3f5f",
                          "gridcolor": "white",
                          "linecolor": "white",
                          "minorgridcolor": "white",
                          "startlinecolor": "#2a3f5f"
                        },
                        "baxis": {
                          "endlinecolor": "#2a3f5f",
                          "gridcolor": "white",
                          "linecolor": "white",
                          "minorgridcolor": "white",
                          "startlinecolor": "#2a3f5f"
                        },
                        "type": "carpet"
                      }
                    ],
                    "choropleth": [
                      {
                        "colorbar": {
                          "outlinewidth": 0,
                          "ticks": ""
                        },
                        "type": "choropleth"
                      }
                    ],
                    "contour": [
                      {
                        "colorbar": {
                          "outlinewidth": 0,
                          "ticks": ""
                        },
                        "colorscale": [
                          [
                            0,
                            "#0d0887"
                          ],
                          [
                            0.1111111111111111,
                            "#46039f"
                          ],
                          [
                            0.2222222222222222,
                            "#7201a8"
                          ],
                          [
                            0.3333333333333333,
                            "#9c179e"
                          ],
                          [
                            0.4444444444444444,
                            "#bd3786"
                          ],
                          [
                            0.5555555555555556,
                            "#d8576b"
                          ],
                          [
                            0.6666666666666666,
                            "#ed7953"
                          ],
                          [
                            0.7777777777777778,
                            "#fb9f3a"
                          ],
                          [
                            0.8888888888888888,
                            "#fdca26"
                          ],
                          [
                            1,
                            "#f0f921"
                          ]
                        ],
                        "type": "contour"
                      }
                    ],
                    "contourcarpet": [
                      {
                        "colorbar": {
                          "outlinewidth": 0,
                          "ticks": ""
                        },
                        "type": "contourcarpet"
                      }
                    ],
                    "heatmap": [
                      {
                        "colorbar": {
                          "outlinewidth": 0,
                          "ticks": ""
                        },
                        "colorscale": [
                          [
                            0,
                            "#0d0887"
                          ],
                          [
                            0.1111111111111111,
                            "#46039f"
                          ],
                          [
                            0.2222222222222222,
                            "#7201a8"
                          ],
                          [
                            0.3333333333333333,
                            "#9c179e"
                          ],
                          [
                            0.4444444444444444,
                            "#bd3786"
                          ],
                          [
                            0.5555555555555556,
                            "#d8576b"
                          ],
                          [
                            0.6666666666666666,
                            "#ed7953"
                          ],
                          [
                            0.7777777777777778,
                            "#fb9f3a"
                          ],
                          [
                            0.8888888888888888,
                            "#fdca26"
                          ],
                          [
                            1,
                            "#f0f921"
                          ]
                        ],
                        "type": "heatmap"
                      }
                    ],
                    "heatmapgl": [
                      {
                        "colorbar": {
                          "outlinewidth": 0,
                          "ticks": ""
                        },
                        "colorscale": [
                          [
                            0,
                            "#0d0887"
                          ],
                          [
                            0.1111111111111111,
                            "#46039f"
                          ],
                          [
                            0.2222222222222222,
                            "#7201a8"
                          ],
                          [
                            0.3333333333333333,
                            "#9c179e"
                          ],
                          [
                            0.4444444444444444,
                            "#bd3786"
                          ],
                          [
                            0.5555555555555556,
                            "#d8576b"
                          ],
                          [
                            0.6666666666666666,
                            "#ed7953"
                          ],
                          [
                            0.7777777777777778,
                            "#fb9f3a"
                          ],
                          [
                            0.8888888888888888,
                            "#fdca26"
                          ],
                          [
                            1,
                            "#f0f921"
                          ]
                        ],
                        "type": "heatmapgl"
                      }
                    ],
                    "histogram": [
                      {
                        "marker": {
                          "pattern": {
                            "fillmode": "overlay",
                            "size": 10,
                            "solidity": 0.2
                          }
                        },
                        "type": "histogram"
                      }
                    ],
                    "histogram2d": [
                      {
                        "colorbar": {
                          "outlinewidth": 0,
                          "ticks": ""
                        },
                        "colorscale": [
                          [
                            0,
                            "#0d0887"
                          ],
                          [
                            0.1111111111111111,
                            "#46039f"
                          ],
                          [
                            0.2222222222222222,
                            "#7201a8"
                          ],
                          [
                            0.3333333333333333,
                            "#9c179e"
                          ],
                          [
                            0.4444444444444444,
                            "#bd3786"
                          ],
                          [
                            0.5555555555555556,
                            "#d8576b"
                          ],
                          [
                            0.6666666666666666,
                            "#ed7953"
                          ],
                          [
                            0.7777777777777778,
                            "#fb9f3a"
                          ],
                          [
                            0.8888888888888888,
                            "#fdca26"
                          ],
                          [
                            1,
                            "#f0f921"
                          ]
                        ],
                        "type": "histogram2d"
                      }
                    ],
                    "histogram2dcontour": [
                      {
                        "colorbar": {
                          "outlinewidth": 0,
                          "ticks": ""
                        },
                        "colorscale": [
                          [
                            0,
                            "#0d0887"
                          ],
                          [
                            0.1111111111111111,
                            "#46039f"
                          ],
                          [
                            0.2222222222222222,
                            "#7201a8"
                          ],
                          [
                            0.3333333333333333,
                            "#9c179e"
                          ],
                          [
                            0.4444444444444444,
                            "#bd3786"
                          ],
                          [
                            0.5555555555555556,
                            "#d8576b"
                          ],
                          [
                            0.6666666666666666,
                            "#ed7953"
                          ],
                          [
                            0.7777777777777778,
                            "#fb9f3a"
                          ],
                          [
                            0.8888888888888888,
                            "#fdca26"
                          ],
                          [
                            1,
                            "#f0f921"
                          ]
                        ],
                        "type": "histogram2dcontour"
                      }
                    ],
                    "mesh3d": [
                      {
                        "colorbar": {
                          "outlinewidth": 0,
                          "ticks": ""
                        },
                        "type": "mesh3d"
                      }
                    ],
                    "parcoords": [
                      {
                        "line": {
                          "colorbar": {
                            "outlinewidth": 0,
                            "ticks": ""
                          }
                        },
                        "type": "parcoords"
                      }
                    ],
                    "pie": [
                      {
                        "automargin": true,
                        "type": "pie"
                      }
                    ],
                    "scatter": [
                      {
                        "fillpattern": {
                          "fillmode": "overlay",
                          "size": 10,
                          "solidity": 0.2
                        },
                        "type": "scatter"
                      }
                    ],
                    "scatter3d": [
                      {
                        "line": {
                          "colorbar": {
                            "outlinewidth": 0,
                            "ticks": ""
                          }
                        },
                        "marker": {
                          "colorbar": {
                            "outlinewidth": 0,
                            "ticks": ""
                          }
                        },
                        "type": "scatter3d"
                      }
                    ],
                    "scattercarpet": [
                      {
                        "marker": {
                          "colorbar": {
                            "outlinewidth": 0,
                            "ticks": ""
                          }
                        },
                        "type": "scattercarpet"
                      }
                    ],
                    "scattergeo": [
                      {
                        "marker": {
                          "colorbar": {
                            "outlinewidth": 0,
                            "ticks": ""
                          }
                        },
                        "type": "scattergeo"
                      }
                    ],
                    "scattergl": [
                      {
                        "marker": {
                          "colorbar": {
                            "outlinewidth": 0,
                            "ticks": ""
                          }
                        },
                        "type": "scattergl"
                      }
                    ],
                    "scattermapbox": [
                      {
                        "marker": {
                          "colorbar": {
                            "outlinewidth": 0,
                            "ticks": ""
                          }
                        },
                        "type": "scattermapbox"
                      }
                    ],
                    "scatterpolar": [
                      {
                        "marker": {
                          "colorbar": {
                            "outlinewidth": 0,
                            "ticks": ""
                          }
                        },
                        "type": "scatterpolar"
                      }
                    ],
                    "scatterpolargl": [
                      {
                        "marker": {
                          "colorbar": {
                            "outlinewidth": 0,
                            "ticks": ""
                          }
                        },
                        "type": "scatterpolargl"
                      }
                    ],
                    "scatterternary": [
                      {
                        "marker": {
                          "colorbar": {
                            "outlinewidth": 0,
                            "ticks": ""
                          }
                        },
                        "type": "scatterternary"
                      }
                    ],
                    "surface": [
                      {
                        "colorbar": {
                          "outlinewidth": 0,
                          "ticks": ""
                        },
                        "colorscale": [
                          [
                            0,
                            "#0d0887"
                          ],
                          [
                            0.1111111111111111,
                            "#46039f"
                          ],
                          [
                            0.2222222222222222,
                            "#7201a8"
                          ],
                          [
                            0.3333333333333333,
                            "#9c179e"
                          ],
                          [
                            0.4444444444444444,
                            "#bd3786"
                          ],
                          [
                            0.5555555555555556,
                            "#d8576b"
                          ],
                          [
                            0.6666666666666666,
                            "#ed7953"
                          ],
                          [
                            0.7777777777777778,
                            "#fb9f3a"
                          ],
                          [
                            0.8888888888888888,
                            "#fdca26"
                          ],
                          [
                            1,
                            "#f0f921"
                          ]
                        ],
                        "type": "surface"
                      }
                    ],
                    "table": [
                      {
                        "cells": {
                          "fill": {
                            "color": "#EBF0F8"
                          },
                          "line": {
                            "color": "white"
                          }
                        },
                        "header": {
                          "fill": {
                            "color": "#C8D4E3"
                          },
                          "line": {
                            "color": "white"
                          }
                        },
                        "type": "table"
                      }
                    ]
                  },
                  "layout": {
                    "annotationdefaults": {
                      "arrowcolor": "#2a3f5f",
                      "arrowhead": 0,
                      "arrowwidth": 1
                    },
                    "autotypenumbers": "strict",
                    "coloraxis": {
                      "colorbar": {
                        "outlinewidth": 0,
                        "ticks": ""
                      }
                    },
                    "colorscale": {
                      "diverging": [
                        [
                          0,
                          "#8e0152"
                        ],
                        [
                          0.1,
                          "#c51b7d"
                        ],
                        [
                          0.2,
                          "#de77ae"
                        ],
                        [
                          0.3,
                          "#f1b6da"
                        ],
                        [
                          0.4,
                          "#fde0ef"
                        ],
                        [
                          0.5,
                          "#f7f7f7"
                        ],
                        [
                          0.6,
                          "#e6f5d0"
                        ],
                        [
                          0.7,
                          "#b8e186"
                        ],
                        [
                          0.8,
                          "#7fbc41"
                        ],
                        [
                          0.9,
                          "#4d9221"
                        ],
                        [
                          1,
                          "#276419"
                        ]
                      ],
                      "sequential": [
                        [
                          0,
                          "#0d0887"
                        ],
                        [
                          0.1111111111111111,
                          "#46039f"
                        ],
                        [
                          0.2222222222222222,
                          "#7201a8"
                        ],
                        [
                          0.3333333333333333,
                          "#9c179e"
                        ],
                        [
                          0.4444444444444444,
                          "#bd3786"
                        ],
                        [
                          0.5555555555555556,
                          "#d8576b"
                        ],
                        [
                          0.6666666666666666,
                          "#ed7953"
                        ],
                        [
                          0.7777777777777778,
                          "#fb9f3a"
                        ],
                        [
                          0.8888888888888888,
                          "#fdca26"
                        ],
                        [
                          1,
                          "#f0f921"
                        ]
                      ],
                      "sequentialminus": [
                        [
                          0,
                          "#0d0887"
                        ],
                        [
                          0.1111111111111111,
                          "#46039f"
                        ],
                        [
                          0.2222222222222222,
                          "#7201a8"
                        ],
                        [
                          0.3333333333333333,
                          "#9c179e"
                        ],
                        [
                          0.4444444444444444,
                          "#bd3786"
                        ],
                        [
                          0.5555555555555556,
                          "#d8576b"
                        ],
                        [
                          0.6666666666666666,
                          "#ed7953"
                        ],
                        [
                          0.7777777777777778,
                          "#fb9f3a"
                        ],
                        [
                          0.8888888888888888,
                          "#fdca26"
                        ],
                        [
                          1,
                          "#f0f921"
                        ]
                      ]
                    },
                    "colorway": [
                      "#636efa",
                      "#EF553B",
                      "#00cc96",
                      "#ab63fa",
                      "#FFA15A",
                      "#19d3f3",
                      "#FF6692",
                      "#B6E880",
                      "#FF97FF",
                      "#FECB52"
                    ],
                    "font": {
                      "color": "#2a3f5f"
                    },
                    "geo": {
                      "bgcolor": "white",
                      "lakecolor": "white",
                      "landcolor": "#E5ECF6",
                      "showlakes": true,
                      "showland": true,
                      "subunitcolor": "white"
                    },
                    "hoverlabel": {
                      "align": "left"
                    },
                    "hovermode": "closest",
                    "mapbox": {
                      "style": "light"
                    },
                    "paper_bgcolor": "white",
                    "plot_bgcolor": "#E5ECF6",
                    "polar": {
                      "angularaxis": {
                        "gridcolor": "white",
                        "linecolor": "white",
                        "ticks": ""
                      },
                      "bgcolor": "#E5ECF6",
                      "radialaxis": {
                        "gridcolor": "white",
                        "linecolor": "white",
                        "ticks": ""
                      }
                    },
                    "scene": {
                      "xaxis": {
                        "backgroundcolor": "#E5ECF6",
                        "gridcolor": "white",
                        "gridwidth": 2,
                        "linecolor": "white",
                        "showbackground": true,
                        "ticks": "",
                        "zerolinecolor": "white"
                      },
                      "yaxis": {
                        "backgroundcolor": "#E5ECF6",
                        "gridcolor": "white",
                        "gridwidth": 2,
                        "linecolor": "white",
                        "showbackground": true,
                        "ticks": "",
                        "zerolinecolor": "white"
                      },
                      "zaxis": {
                        "backgroundcolor": "#E5ECF6",
                        "gridcolor": "white",
                        "gridwidth": 2,
                        "linecolor": "white",
                        "showbackground": true,
                        "ticks": "",
                        "zerolinecolor": "white"
                      }
                    },
                    "shapedefaults": {
                      "line": {
                        "color": "#2a3f5f"
                      }
                    },
                    "ternary": {
                      "aaxis": {
                        "gridcolor": "white",
                        "linecolor": "white",
                        "ticks": ""
                      },
                      "baxis": {
                        "gridcolor": "white",
                        "linecolor": "white",
                        "ticks": ""
                      },
                      "bgcolor": "#E5ECF6",
                      "caxis": {
                        "gridcolor": "white",
                        "linecolor": "white",
                        "ticks": ""
                      }
                    },
                    "title": {
                      "x": 0.05
                    },
                    "xaxis": {
                      "automargin": true,
                      "gridcolor": "white",
                      "linecolor": "white",
                      "ticks": "",
                      "title": {
                        "standoff": 15
                      },
                      "zerolinecolor": "white",
                      "zerolinewidth": 2
                    },
                    "yaxis": {
                      "automargin": true,
                      "gridcolor": "white",
                      "linecolor": "white",
                      "ticks": "",
                      "title": {
                        "standoff": 15
                      },
                      "zerolinecolor": "white",
                      "zerolinewidth": 2
                    }
                  }
                },
                "title": {
                  "text": "Impressions on Instagram Posts From Various Sources"
                }
              }
            }
          },
          "metadata": {},
          "output_type": "display_data"
        }
      ],
      "source": [
        "## Relation between Likes and Followers\n",
        "\n",
        "followers = data[\"Followers\"].sum()\n",
        "likes = data[\"Likes\"].sum()\n",
        "\n",
        "labels = ['Followers', 'Likes']\n",
        "values = [followers, likes]\n",
        "\n",
        "fig = px.pie(data, values=values, names=labels,\n",
        "             title='Impressions on Instagram Posts From Various Sources', hole=0.5)\n",
        "fig.show()\n"
      ]
    },
    {
      "cell_type": "code",
      "execution_count": 17,
      "id": "b98ffb89",
      "metadata": {
        "execution": {
          "iopub.execute_input": "2023-05-21T19:09:57.375534Z",
          "iopub.status.busy": "2023-05-21T19:09:57.374812Z",
          "iopub.status.idle": "2023-05-21T19:09:57.832660Z",
          "shell.execute_reply": "2023-05-21T19:09:57.831656Z"
        },
        "id": "b98ffb89",
        "outputId": "409a3386-d0f7-451e-d6b6-78ba19722510",
        "papermill": {
          "duration": 0.476959,
          "end_time": "2023-05-21T19:09:57.837243",
          "exception": false,
          "start_time": "2023-05-21T19:09:57.360284",
          "status": "completed"
        },
        "tags": []
      },
      "outputs": [
        {
          "data": {
            "image/png": "[encoded data removed]",
            "text/plain": [
              "<Figure size 960x800 with 1 Axes>"
            ]
          },
          "metadata": {},
          "output_type": "display_data"
        }
      ],
      "source": [
        "## Plotting Word-Cloud for Hashtag Related Data\n",
        "\n",
        "text = \" \".join(i for i in data.Hashtags)\n",
        "stopwords = set(STOPWORDS)\n",
        "wordcloud = WordCloud(stopwords=stopwords, background_color=\"white\").generate(text)\n",
        "plt.style.use('classic')\n",
        "plt.figure( figsize=(12,10))\n",
        "plt.imshow(wordcloud, interpolation='bilinear')\n",
        "plt.axis(\"off\")\n",
        "plt.show()"
      ]
    },
    {
      "cell_type": "code",
      "execution_count": 18,
      "id": "6d9e4ad4",
      "metadata": {
        "execution": {
          "iopub.execute_input": "2023-05-21T19:09:57.875244Z",
          "iopub.status.busy": "2023-05-21T19:09:57.874013Z",
          "iopub.status.idle": "2023-05-21T19:09:59.768466Z",
          "shell.execute_reply": "2023-05-21T19:09:59.767555Z"
        },
        "id": "6d9e4ad4",
        "outputId": "70e4d20a-b11d-4c83-962c-6b9bfb8cb97c",
        "papermill": {
          "duration": 1.916187,
          "end_time": "2023-05-21T19:09:59.770925",
          "exception": false,
          "start_time": "2023-05-21T19:09:57.854738",
          "status": "completed"
        },
        "tags": []
      },
      "outputs": [
        {
          "data": {
            "application/vnd.plotly.v1+json": {
              "config": {
                "plotlyServerURL": "https://plot.ly"
              },
              "data": [
                {
                  "hovertemplate": "Likes=%{x}<br>Followers=%{y}<extra></extra>",
                  "legendgroup": "",
                  "marker": {
                    "color": "#636efa",
                    "symbol": "circle"
                  },
                  "mode": "markers",
                  "name": "",
                  "orientation": "v",
                  "showlegend": false,
                  "type": "scatter",
                  "x": [
                    139,
                    23,
                    25,
                    49,
                    30,
                    18,
                    35,
                    86,
                    22,
                    18,
                    31,
                    48,
                    80,
                    94,
                    28,
                    53,
                    29,
                    46,
                    30,
                    34,
                    198,
                    19,
                    20,
                    11,
                    10,
                    46,
                    25,
                    148,
                    43,
                    37,
                    90,
                    19,
                    14,
                    30,
                    273,
                    13,
                    93,
                    24,
                    18,
                    136,
                    24,
                    8,
                    41,
                    81,
                    16,
                    31,
                    24,
                    51,
                    43,
                    20,
                    25,
                    157,
                    24,
                    65,
                    349,
                    17,
                    10,
                    21,
                    11,
                    16,
                    10,
                    27,
                    16,
                    19,
                    29,
                    31,
                    19,
                    40,
                    21,
                    50,
                    10,
                    35,
                    119,
                    11,
                    55,
                    12,
                    28,
                    43,
                    31,
                    14,
                    33,
                    43,
                    9,
                    29,
                    32,
                    46,
                    12,
                    20,
                    24,
                    31,
                    42,
                    10,
                    222,
                    109
                  ],
                  "xaxis": "x",
                  "y": [
                    1600,
                    880,
                    255,
                    340,
                    304,
                    1231,
                    259,
                    1433,
                    13,
                    450,
                    149,
                    2232,
                    1061,
                    533,
                    2904,
                    971,
                    285,
                    520,
                    75,
                    2691,
                    966,
                    334,
                    1041,
                    4496,
                    166,
                    1211,
                    265,
                    1618,
                    279,
                    279,
                    828,
                    12,
                    894,
                    610,
                    226,
                    1168,
                    835,
                    124,
                    193,
                    1600,
                    258,
                    105,
                    273,
                    914,
                    118,
                    122,
                    1180,
                    3139,
                    3725,
                    935,
                    1766,
                    2277,
                    87,
                    2785,
                    3448,
                    530,
                    3147,
                    918,
                    4496,
                    145,
                    11,
                    577,
                    66,
                    89,
                    2014,
                    151,
                    371,
                    1003,
                    1200,
                    383,
                    2372,
                    740,
                    2573,
                    181,
                    631,
                    246,
                    140,
                    888,
                    845,
                    91,
                    361,
                    361,
                    262,
                    1158,
                    863,
                    971,
                    106,
                    179,
                    49,
                    614,
                    450,
                    182,
                    2039,
                    741
                  ],
                  "yaxis": "y"
                },
                {
                  "hovertemplate": "<b>OLS trendline</b><br>Followers = 5.0385 * Likes + 701.369<br>R<sup>2</sup>=0.077307<br><br>Likes=%{x}<br>Followers=%{y} <b>(trend)</b><extra></extra>",
                  "legendgroup": "",
                  "marker": {
                    "color": "#636efa",
                    "symbol": "circle"
                  },
                  "mode": "lines",
                  "name": "",
                  "showlegend": false,
                  "type": "scatter",
                  "x": [
                    8,
                    9,
                    10,
                    10,
                    10,
                    10,
                    10,
                    11,
                    11,
                    11,
                    12,
                    12,
                    13,
                    14,
                    14,
                    16,
                    16,
                    16,
                    17,
                    18,
                    18,
                    18,
                    19,
                    19,
                    19,
                    19,
                    20,
                    20,
                    20,
                    21,
                    21,
                    22,
                    23,
                    24,
                    24,
                    24,
                    24,
                    24,
                    25,
                    25,
                    25,
                    27,
                    28,
                    28,
                    29,
                    29,
                    29,
                    30,
                    30,
                    30,
                    31,
                    31,
                    31,
                    31,
                    31,
                    32,
                    33,
                    34,
                    35,
                    35,
                    37,
                    40,
                    41,
                    42,
                    43,
                    43,
                    43,
                    43,
                    46,
                    46,
                    46,
                    48,
                    49,
                    50,
                    51,
                    53,
                    55,
                    65,
                    80,
                    81,
                    86,
                    90,
                    93,
                    94,
                    109,
                    119,
                    136,
                    139,
                    148,
                    157,
                    198,
                    222,
                    273,
                    349
                  ],
                  "xaxis": "x",
                  "y": [
                    741.6771667009755,
                    746.715669323037,
                    751.7541719450984,
                    751.7541719450984,
                    751.7541719450984,
                    751.7541719450984,
                    751.7541719450984,
                    756.7926745671598,
                    756.7926745671598,
                    756.7926745671598,
                    761.8311771892212,
                    761.8311771892212,
                    766.8696798112827,
                    771.9081824333441,
                    771.9081824333441,
                    781.9851876774669,
                    781.9851876774669,
                    781.9851876774669,
                    787.0236902995284,
                    792.0621929215898,
                    792.0621929215898,
                    792.0621929215898,
                    797.1006955436512,
                    797.1006955436512,
                    797.1006955436512,
                    797.1006955436512,
                    802.1391981657127,
                    802.1391981657127,
                    802.1391981657127,
                    807.1777007877741,
                    807.1777007877741,
                    812.2162034098355,
                    817.2547060318971,
                    822.2932086539585,
                    822.2932086539585,
                    822.2932086539585,
                    822.2932086539585,
                    822.2932086539585,
                    827.3317112760199,
                    827.3317112760199,
                    827.3317112760199,
                    837.4087165201427,
                    842.4472191422042,
                    842.4472191422042,
                    847.4857217642656,
                    847.4857217642656,
                    847.4857217642656,
                    852.524224386327,
                    852.524224386327,
                    852.524224386327,
                    857.5627270083885,
                    857.5627270083885,
                    857.5627270083885,
                    857.5627270083885,
                    857.5627270083885,
                    862.6012296304499,
                    867.6397322525113,
                    872.6782348745728,
                    877.7167374966342,
                    877.7167374966342,
                    887.7937427407571,
                    902.9092506069413,
                    907.9477532290027,
                    912.9862558510642,
                    918.0247584731256,
                    918.0247584731256,
                    918.0247584731256,
                    918.0247584731256,
                    933.14026633931,
                    933.14026633931,
                    933.14026633931,
                    943.2172715834329,
                    948.2557742054943,
                    953.2942768275557,
                    958.3327794496172,
                    968.40978469374,
                    978.4867899378628,
                    1028.8718161584773,
                    1104.4493554893986,
                    1109.4878581114601,
                    1134.6803712217672,
                    1154.834381710013,
                    1169.9498895761972,
                    1174.9883921982587,
                    1250.5659315291803,
                    1300.9509577497945,
                    1386.6055023248389,
                    1401.7210101910232,
                    1447.0675337895761,
                    1492.414057388129,
                    1698.9926648926478,
                    1819.916727822122,
                    2076.8803615472552,
                    2459.806560823924
                  ],
                  "yaxis": "y"
                }
              ],
              "layout": {
                "legend": {
                  "tracegroupgap": 0
                },
                "template": {
                  "data": {
                    "bar": [
                      {
                        "error_x": {
                          "color": "#2a3f5f"
                        },
                        "error_y": {
                          "color": "#2a3f5f"
                        },
                        "marker": {
                          "line": {
                            "color": "#E5ECF6",
                            "width": 0.5
                          },
                          "pattern": {
                            "fillmode": "overlay",
                            "size": 10,
                            "solidity": 0.2
                          }
                        },
                        "type": "bar"
                      }
                    ],
                    "barpolar": [
                      {
                        "marker": {
                          "line": {
                            "color": "#E5ECF6",
                            "width": 0.5
                          },
                          "pattern": {
                            "fillmode": "overlay",
                            "size": 10,
                            "solidity": 0.2
                          }
                        },
                        "type": "barpolar"
                      }
                    ],
                    "carpet": [
                      {
                        "aaxis": {
                          "endlinecolor": "#2a3f5f",
                          "gridcolor": "white",
                          "linecolor": "white",
                          "minorgridcolor": "white",
                          "startlinecolor": "#2a3f5f"
                        },
                        "baxis": {
                          "endlinecolor": "#2a3f5f",
                          "gridcolor": "white",
                          "linecolor": "white",
                          "minorgridcolor": "white",
                          "startlinecolor": "#2a3f5f"
                        },
                        "type": "carpet"
                      }
                    ],
                    "choropleth": [
                      {
                        "colorbar": {
                          "outlinewidth": 0,
                          "ticks": ""
                        },
                        "type": "choropleth"
                      }
                    ],
                    "contour": [
                      {
                        "colorbar": {
                          "outlinewidth": 0,
                          "ticks": ""
                        },
                        "colorscale": [
                          [
                            0,
                            "#0d0887"
                          ],
                          [
                            0.1111111111111111,
                            "#46039f"
                          ],
                          [
                            0.2222222222222222,
                            "#7201a8"
                          ],
                          [
                            0.3333333333333333,
                            "#9c179e"
                          ],
                          [
                            0.4444444444444444,
                            "#bd3786"
                          ],
                          [
                            0.5555555555555556,
                            "#d8576b"
                          ],
                          [
                            0.6666666666666666,
                            "#ed7953"
                          ],
                          [
                            0.7777777777777778,
                            "#fb9f3a"
                          ],
                          [
                            0.8888888888888888,
                            "#fdca26"
                          ],
                          [
                            1,
                            "#f0f921"
                          ]
                        ],
                        "type": "contour"
                      }
                    ],
                    "contourcarpet": [
                      {
                        "colorbar": {
                          "outlinewidth": 0,
                          "ticks": ""
                        },
                        "type": "contourcarpet"
                      }
                    ],
                    "heatmap": [
                      {
                        "colorbar": {
                          "outlinewidth": 0,
                          "ticks": ""
                        },
                        "colorscale": [
                          [
                            0,
                            "#0d0887"
                          ],
                          [
                            0.1111111111111111,
                            "#46039f"
                          ],
                          [
                            0.2222222222222222,
                            "#7201a8"
                          ],
                          [
                            0.3333333333333333,
                            "#9c179e"
                          ],
                          [
                            0.4444444444444444,
                            "#bd3786"
                          ],
                          [
                            0.5555555555555556,
                            "#d8576b"
                          ],
                          [
                            0.6666666666666666,
                            "#ed7953"
                          ],
                          [
                            0.7777777777777778,
                            "#fb9f3a"
                          ],
                          [
                            0.8888888888888888,
                            "#fdca26"
                          ],
                          [
                            1,
                            "#f0f921"
                          ]
                        ],
                        "type": "heatmap"
                      }
                    ],
                    "heatmapgl": [
                      {
                        "colorbar": {
                          "outlinewidth": 0,
                          "ticks": ""
                        },
                        "colorscale": [
                          [
                            0,
                            "#0d0887"
                          ],
                          [
                            0.1111111111111111,
                            "#46039f"
                          ],
                          [
                            0.2222222222222222,
                            "#7201a8"
                          ],
                          [
                            0.3333333333333333,
                            "#9c179e"
                          ],
                          [
                            0.4444444444444444,
                            "#bd3786"
                          ],
                          [
                            0.5555555555555556,
                            "#d8576b"
                          ],
                          [
                            0.6666666666666666,
                            "#ed7953"
                          ],
                          [
                            0.7777777777777778,
                            "#fb9f3a"
                          ],
                          [
                            0.8888888888888888,
                            "#fdca26"
                          ],
                          [
                            1,
                            "#f0f921"
                          ]
                        ],
                        "type": "heatmapgl"
                      }
                    ],
                    "histogram": [
                      {
                        "marker": {
                          "pattern": {
                            "fillmode": "overlay",
                            "size": 10,
                            "solidity": 0.2
                          }
                        },
                        "type": "histogram"
                      }
                    ],
                    "histogram2d": [
                      {
                        "colorbar": {
                          "outlinewidth": 0,
                          "ticks": ""
                        },
                        "colorscale": [
                          [
                            0,
                            "#0d0887"
                          ],
                          [
                            0.1111111111111111,
                            "#46039f"
                          ],
                          [
                            0.2222222222222222,
                            "#7201a8"
                          ],
                          [
                            0.3333333333333333,
                            "#9c179e"
                          ],
                          [
                            0.4444444444444444,
                            "#bd3786"
                          ],
                          [
                            0.5555555555555556,
                            "#d8576b"
                          ],
                          [
                            0.6666666666666666,
                            "#ed7953"
                          ],
                          [
                            0.7777777777777778,
                            "#fb9f3a"
                          ],
                          [
                            0.8888888888888888,
                            "#fdca26"
                          ],
                          [
                            1,
                            "#f0f921"
                          ]
                        ],
                        "type": "histogram2d"
                      }
                    ],
                    "histogram2dcontour": [
                      {
                        "colorbar": {
                          "outlinewidth": 0,
                          "ticks": ""
                        },
                        "colorscale": [
                          [
                            0,
                            "#0d0887"
                          ],
                          [
                            0.1111111111111111,
                            "#46039f"
                          ],
                          [
                            0.2222222222222222,
                            "#7201a8"
                          ],
                          [
                            0.3333333333333333,
                            "#9c179e"
                          ],
                          [
                            0.4444444444444444,
                            "#bd3786"
                          ],
                          [
                            0.5555555555555556,
                            "#d8576b"
                          ],
                          [
                            0.6666666666666666,
                            "#ed7953"
                          ],
                          [
                            0.7777777777777778,
                            "#fb9f3a"
                          ],
                          [
                            0.8888888888888888,
                            "#fdca26"
                          ],
                          [
                            1,
                            "#f0f921"
                          ]
                        ],
                        "type": "histogram2dcontour"
                      }
                    ],
                    "mesh3d": [
                      {
                        "colorbar": {
                          "outlinewidth": 0,
                          "ticks": ""
                        },
                        "type": "mesh3d"
                      }
                    ],
                    "parcoords": [
                      {
                        "line": {
                          "colorbar": {
                            "outlinewidth": 0,
                            "ticks": ""
                          }
                        },
                        "type": "parcoords"
                      }
                    ],
                    "pie": [
                      {
                        "automargin": true,
                        "type": "pie"
                      }
                    ],
                    "scatter": [
                      {
                        "fillpattern": {
                          "fillmode": "overlay",
                          "size": 10,
                          "solidity": 0.2
                        },
                        "type": "scatter"
                      }
                    ],
                    "scatter3d": [
                      {
                        "line": {
                          "colorbar": {
                            "outlinewidth": 0,
                            "ticks": ""
                          }
                        },
                        "marker": {
                          "colorbar": {
                            "outlinewidth": 0,
                            "ticks": ""
                          }
                        },
                        "type": "scatter3d"
                      }
                    ],
                    "scattercarpet": [
                      {
                        "marker": {
                          "colorbar": {
                            "outlinewidth": 0,
                            "ticks": ""
                          }
                        },
                        "type": "scattercarpet"
                      }
                    ],
                    "scattergeo": [
                      {
                        "marker": {
                          "colorbar": {
                            "outlinewidth": 0,
                            "ticks": ""
                          }
                        },
                        "type": "scattergeo"
                      }
                    ],
                    "scattergl": [
                      {
                        "marker": {
                          "colorbar": {
                            "outlinewidth": 0,
                            "ticks": ""
                          }
                        },
                        "type": "scattergl"
                      }
                    ],
                    "scattermapbox": [
                      {
                        "marker": {
                          "colorbar": {
                            "outlinewidth": 0,
                            "ticks": ""
                          }
                        },
                        "type": "scattermapbox"
                      }
                    ],
                    "scatterpolar": [
                      {
                        "marker": {
                          "colorbar": {
                            "outlinewidth": 0,
                            "ticks": ""
                          }
                        },
                        "type": "scatterpolar"
                      }
                    ],
                    "scatterpolargl": [
                      {
                        "marker": {
                          "colorbar": {
                            "outlinewidth": 0,
                            "ticks": ""
                          }
                        },
                        "type": "scatterpolargl"
                      }
                    ],
                    "scatterternary": [
                      {
                        "marker": {
                          "colorbar": {
                            "outlinewidth": 0,
                            "ticks": ""
                          }
                        },
                        "type": "scatterternary"
                      }
                    ],
                    "surface": [
                      {
                        "colorbar": {
                          "outlinewidth": 0,
                          "ticks": ""
                        },
                        "colorscale": [
                          [
                            0,
                            "#0d0887"
                          ],
                          [
                            0.1111111111111111,
                            "#46039f"
                          ],
                          [
                            0.2222222222222222,
                            "#7201a8"
                          ],
                          [
                            0.3333333333333333,
                            "#9c179e"
                          ],
                          [
                            0.4444444444444444,
                            "#bd3786"
                          ],
                          [
                            0.5555555555555556,
                            "#d8576b"
                          ],
                          [
                            0.6666666666666666,
                            "#ed7953"
                          ],
                          [
                            0.7777777777777778,
                            "#fb9f3a"
                          ],
                          [
                            0.8888888888888888,
                            "#fdca26"
                          ],
                          [
                            1,
                            "#f0f921"
                          ]
                        ],
                        "type": "surface"
                      }
                    ],
                    "table": [
                      {
                        "cells": {
                          "fill": {
                            "color": "#EBF0F8"
                          },
                          "line": {
                            "color": "white"
                          }
                        },
                        "header": {
                          "fill": {
                            "color": "#C8D4E3"
                          },
                          "line": {
                            "color": "white"
                          }
                        },
                        "type": "table"
                      }
                    ]
                  },
                  "layout": {
                    "annotationdefaults": {
                      "arrowcolor": "#2a3f5f",
                      "arrowhead": 0,
                      "arrowwidth": 1
                    },
                    "autotypenumbers": "strict",
                    "coloraxis": {
                      "colorbar": {
                        "outlinewidth": 0,
                        "ticks": ""
                      }
                    },
                    "colorscale": {
                      "diverging": [
                        [
                          0,
                          "#8e0152"
                        ],
                        [
                          0.1,
                          "#c51b7d"
                        ],
                        [
                          0.2,
                          "#de77ae"
                        ],
                        [
                          0.3,
                          "#f1b6da"
                        ],
                        [
                          0.4,
                          "#fde0ef"
                        ],
                        [
                          0.5,
                          "#f7f7f7"
                        ],
                        [
                          0.6,
                          "#e6f5d0"
                        ],
                        [
                          0.7,
                          "#b8e186"
                        ],
                        [
                          0.8,
                          "#7fbc41"
                        ],
                        [
                          0.9,
                          "#4d9221"
                        ],
                        [
                          1,
                          "#276419"
                        ]
                      ],
                      "sequential": [
                        [
                          0,
                          "#0d0887"
                        ],
                        [
                          0.1111111111111111,
                          "#46039f"
                        ],
                        [
                          0.2222222222222222,
                          "#7201a8"
                        ],
                        [
                          0.3333333333333333,
                          "#9c179e"
                        ],
                        [
                          0.4444444444444444,
                          "#bd3786"
                        ],
                        [
                          0.5555555555555556,
                          "#d8576b"
                        ],
                        [
                          0.6666666666666666,
                          "#ed7953"
                        ],
                        [
                          0.7777777777777778,
                          "#fb9f3a"
                        ],
                        [
                          0.8888888888888888,
                          "#fdca26"
                        ],
                        [
                          1,
                          "#f0f921"
                        ]
                      ],
                      "sequentialminus": [
                        [
                          0,
                          "#0d0887"
                        ],
                        [
                          0.1111111111111111,
                          "#46039f"
                        ],
                        [
                          0.2222222222222222,
                          "#7201a8"
                        ],
                        [
                          0.3333333333333333,
                          "#9c179e"
                        ],
                        [
                          0.4444444444444444,
                          "#bd3786"
                        ],
                        [
                          0.5555555555555556,
                          "#d8576b"
                        ],
                        [
                          0.6666666666666666,
                          "#ed7953"
                        ],
                        [
                          0.7777777777777778,
                          "#fb9f3a"
                        ],
                        [
                          0.8888888888888888,
                          "#fdca26"
                        ],
                        [
                          1,
                          "#f0f921"
                        ]
                      ]
                    },
                    "colorway": [
                      "#636efa",
                      "#EF553B",
                      "#00cc96",
                      "#ab63fa",
                      "#FFA15A",
                      "#19d3f3",
                      "#FF6692",
                      "#B6E880",
                      "#FF97FF",
                      "#FECB52"
                    ],
                    "font": {
                      "color": "#2a3f5f"
                    },
                    "geo": {
                      "bgcolor": "white",
                      "lakecolor": "white",
                      "landcolor": "#E5ECF6",
                      "showlakes": true,
                      "showland": true,
                      "subunitcolor": "white"
                    },
                    "hoverlabel": {
                      "align": "left"
                    },
                    "hovermode": "closest",
                    "mapbox": {
                      "style": "light"
                    },
                    "paper_bgcolor": "white",
                    "plot_bgcolor": "#E5ECF6",
                    "polar": {
                      "angularaxis": {
                        "gridcolor": "white",
                        "linecolor": "white",
                        "ticks": ""
                      },
                      "bgcolor": "#E5ECF6",
                      "radialaxis": {
                        "gridcolor": "white",
                        "linecolor": "white",
                        "ticks": ""
                      }
                    },
                    "scene": {
                      "xaxis": {
                        "backgroundcolor": "#E5ECF6",
                        "gridcolor": "white",
                        "gridwidth": 2,
                        "linecolor": "white",
                        "showbackground": true,
                        "ticks": "",
                        "zerolinecolor": "white"
                      },
                      "yaxis": {
                        "backgroundcolor": "#E5ECF6",
                        "gridcolor": "white",
                        "gridwidth": 2,
                        "linecolor": "white",
                        "showbackground": true,
                        "ticks": "",
                        "zerolinecolor": "white"
                      },
                      "zaxis": {
                        "backgroundcolor": "#E5ECF6",
                        "gridcolor": "white",
                        "gridwidth": 2,
                        "linecolor": "white",
                        "showbackground": true,
                        "ticks": "",
                        "zerolinecolor": "white"
                      }
                    },
                    "shapedefaults": {
                      "line": {
                        "color": "#2a3f5f"
                      }
                    },
                    "ternary": {
                      "aaxis": {
                        "gridcolor": "white",
                        "linecolor": "white",
                        "ticks": ""
                      },
                      "baxis": {
                        "gridcolor": "white",
                        "linecolor": "white",
                        "ticks": ""
                      },
                      "bgcolor": "#E5ECF6",
                      "caxis": {
                        "gridcolor": "white",
                        "linecolor": "white",
                        "ticks": ""
                      }
                    },
                    "title": {
                      "x": 0.05
                    },
                    "xaxis": {
                      "automargin": true,
                      "gridcolor": "white",
                      "linecolor": "white",
                      "ticks": "",
                      "title": {
                        "standoff": 15
                      },
                      "zerolinecolor": "white",
                      "zerolinewidth": 2
                    },
                    "yaxis": {
                      "automargin": true,
                      "gridcolor": "white",
                      "linecolor": "white",
                      "ticks": "",
                      "title": {
                        "standoff": 15
                      },
                      "zerolinecolor": "white",
                      "zerolinewidth": 2
                    }
                  }
                },
                "title": {
                  "text": "Relationship Between Likes and Followers"
                },
                "xaxis": {
                  "anchor": "y",
                  "domain": [
                    0,
                    1
                  ],
                  "title": {
                    "text": "Likes"
                  }
                },
                "yaxis": {
                  "anchor": "x",
                  "domain": [
                    0,
                    1
                  ],
                  "title": {
                    "text": "Followers"
                  }
                }
              }
            }
          },
          "metadata": {},
          "output_type": "display_data"
        }
      ],
      "source": [
        "## Plotting Scatter-plot for showing Relationship Between Likes and Followers\n",
        "\n",
        "figure = px.scatter(data_frame = data, x=\"Likes\",\n",
        "                    y=\"Followers\", trendline=\"ols\",\n",
        "                    title = \"Relationship Between Likes and Followers\")\n",
        "figure.show()"
      ]
    },
    {
      "cell_type": "code",
      "execution_count": 19,
      "id": "8df1d064",
      "metadata": {
        "execution": {
          "iopub.execute_input": "2023-05-21T19:09:59.809994Z",
          "iopub.status.busy": "2023-05-21T19:09:59.809198Z",
          "iopub.status.idle": "2023-05-21T19:09:59.814413Z",
          "shell.execute_reply": "2023-05-21T19:09:59.813641Z"
        },
        "id": "8df1d064",
        "papermill": {
          "duration": 0.026976,
          "end_time": "2023-05-21T19:09:59.816740",
          "exception": false,
          "start_time": "2023-05-21T19:09:59.789764",
          "status": "completed"
        },
        "tags": []
      },
      "outputs": [],
      "source": [
        "# Select the relevant features and target variables\n",
        "\n",
        "features = ['USERNAME', 'Caption', 'Hashtags', 'Followers']\n",
        "target_likes = 'Likes'\n",
        "target_time_since_posted = 'Time since posted'\n"
      ]
    },
    {
      "cell_type": "code",
      "execution_count": 20,
      "id": "90dfb348",
      "metadata": {
        "execution": {
          "iopub.execute_input": "2023-05-21T19:09:59.855278Z",
          "iopub.status.busy": "2023-05-21T19:09:59.854427Z",
          "iopub.status.idle": "2023-05-21T19:09:59.863689Z",
          "shell.execute_reply": "2023-05-21T19:09:59.862815Z"
        },
        "id": "90dfb348",
        "papermill": {
          "duration": 0.031594,
          "end_time": "2023-05-21T19:09:59.866189",
          "exception": false,
          "start_time": "2023-05-21T19:09:59.834595",
          "status": "completed"
        },
        "tags": []
      },
      "outputs": [],
      "source": [
        "# Split the data into training and testing sets\n",
        "\n",
        "X = data[features]\n",
        "y_likes = data[target_likes]\n",
        "y_time_since_posted = data[target_time_since_posted]\n",
        "X_train, X_test, y_likes_train, y_likes_test, y_time_since_posted_train, y_time_since_posted_test = train_test_split(X, y_likes, y_time_since_posted, test_size=0.2, random_state=42)\n"
      ]
    },
    {
      "cell_type": "code",
      "execution_count": 21,
      "id": "cbfcbe9f",
      "metadata": {
        "execution": {
          "iopub.execute_input": "2023-05-21T19:09:59.904319Z",
          "iopub.status.busy": "2023-05-21T19:09:59.903926Z",
          "iopub.status.idle": "2023-05-21T19:09:59.919937Z",
          "shell.execute_reply": "2023-05-21T19:09:59.918837Z"
        },
        "id": "cbfcbe9f",
        "papermill": {
          "duration": 0.038548,
          "end_time": "2023-05-21T19:09:59.922837",
          "exception": false,
          "start_time": "2023-05-21T19:09:59.884289",
          "status": "completed"
        },
        "tags": []
      },
      "outputs": [],
      "source": [
        "# Preprocess the text features using one-hot encoding\n",
        "encoder = OneHotEncoder(sparse=False, handle_unknown='ignore')\n",
        "X_train_encoded = encoder.fit_transform(X_train)\n",
        "X_test_encoded = encoder.transform(X_test)\n"
      ]
    },
    {
      "cell_type": "markdown",
      "id": "262f9cca",
      "metadata": {
        "id": "262f9cca",
        "papermill": {
          "duration": 0.017621,
          "end_time": "2023-05-21T19:09:59.959071",
          "exception": false,
          "start_time": "2023-05-21T19:09:59.941450",
          "status": "completed"
        },
        "tags": []
      },
      "source": [
        "## Train a model to predict the number of likes:"
      ]
    },
    {
      "cell_type": "code",
      "execution_count": 22,
      "id": "8b52485d",
      "metadata": {
        "execution": {
          "iopub.execute_input": "2023-05-21T19:09:59.996669Z",
          "iopub.status.busy": "2023-05-21T19:09:59.996234Z",
          "iopub.status.idle": "2023-05-21T19:10:00.027258Z",
          "shell.execute_reply": "2023-05-21T19:10:00.025722Z"
        },
        "id": "8b52485d",
        "outputId": "3c1362f1-6b79-4732-87de-e41fddbf14a3",
        "papermill": {
          "duration": 0.054452,
          "end_time": "2023-05-21T19:10:00.031369",
          "exception": false,
          "start_time": "2023-05-21T19:09:59.976917",
          "status": "completed"
        },
        "tags": []
      },
      "outputs": [
        {
          "name": "stdout",
          "output_type": "stream",
          "text": [
            "Mean Squared Error (Likes): 1790.074685619423\n"
          ]
        }
      ],
      "source": [
        "# Train a model to predict the number of likes\n",
        "likes_model = LinearRegression()\n",
        "likes_model.fit(X_train_encoded, y_likes_train)\n",
        "likes_predictions = likes_model.predict(X_test_encoded)\n",
        "likes_mse = mean_squared_error(y_likes_test, likes_predictions)\n",
        "print(\"Mean Squared Error (Likes):\", likes_mse)"
      ]
    },
    {
      "cell_type": "markdown",
      "id": "e1cddb62",
      "metadata": {
        "id": "e1cddb62",
        "papermill": {
          "duration": 0.036424,
          "end_time": "2023-05-21T19:10:00.104179",
          "exception": false,
          "start_time": "2023-05-21T19:10:00.067755",
          "status": "completed"
        },
        "tags": []
      },
      "source": [
        "## Train a model to predict the time since posted"
      ]
    },
    {
      "cell_type": "code",
      "execution_count": 23,
      "id": "e620a00f",
      "metadata": {
        "execution": {
          "iopub.execute_input": "2023-05-21T19:10:00.159009Z",
          "iopub.status.busy": "2023-05-21T19:10:00.158612Z",
          "iopub.status.idle": "2023-05-21T19:10:00.163927Z",
          "shell.execute_reply": "2023-05-21T19:10:00.163069Z"
        },
        "id": "e620a00f",
        "papermill": {
          "duration": 0.027165,
          "end_time": "2023-05-21T19:10:00.166190",
          "exception": false,
          "start_time": "2023-05-21T19:10:00.139025",
          "status": "completed"
        },
        "tags": []
      },
      "outputs": [],
      "source": [
        "# Preprocess the time since posted variable\n",
        "def extract_numerical_value(time_string):\n",
        "    numerical_value = re.findall(r'\\d+', time_string)[0]\n",
        "    return int(numerical_value)"
      ]
    },
    {
      "cell_type": "code",
      "execution_count": 24,
      "id": "1a79302c",
      "metadata": {
        "execution": {
          "iopub.execute_input": "2023-05-21T19:10:00.205720Z",
          "iopub.status.busy": "2023-05-21T19:10:00.205298Z",
          "iopub.status.idle": "2023-05-21T19:10:00.211793Z",
          "shell.execute_reply": "2023-05-21T19:10:00.210376Z"
        },
        "id": "1a79302c",
        "papermill": {
          "duration": 0.029445,
          "end_time": "2023-05-21T19:10:00.214124",
          "exception": false,
          "start_time": "2023-05-21T19:10:00.184679",
          "status": "completed"
        },
        "tags": []
      },
      "outputs": [],
      "source": [
        "y_time_since_posted_train = y_time_since_posted_train.apply(extract_numerical_value)\n",
        "y_time_since_posted_test = y_time_since_posted_test.apply(extract_numerical_value)\n"
      ]
    },
    {
      "cell_type": "code",
      "execution_count": 25,
      "id": "7f7cb290",
      "metadata": {
        "execution": {
          "iopub.execute_input": "2023-05-21T19:10:00.252273Z",
          "iopub.status.busy": "2023-05-21T19:10:00.251818Z",
          "iopub.status.idle": "2023-05-21T19:10:00.269920Z",
          "shell.execute_reply": "2023-05-21T19:10:00.268158Z"
        },
        "id": "7f7cb290",
        "outputId": "8d8fcd1d-f167-48ee-bc29-9c65a313840f",
        "papermill": {
          "duration": 0.041845,
          "end_time": "2023-05-21T19:10:00.274159",
          "exception": false,
          "start_time": "2023-05-21T19:10:00.232314",
          "status": "completed"
        },
        "tags": []
      },
      "outputs": [
        {
          "name": "stdout",
          "output_type": "stream",
          "text": [
            "Mean Squared Error (Time Since Posted - Random Forest): 16.48013157894737\n"
          ]
        }
      ],
      "source": [
        "from sklearn.ensemble import RandomForestRegressor\n",
        "\n",
        "# Train a model to predict the time since posted using Random Forest Regressor\n",
        "time_since_posted_rf_model = RandomForestRegressor()\n",
        "time_since_posted_rf_model.fit(X_train_encoded, y_time_since_posted_train)\n",
        "time_since_posted_rf_predictions = time_since_posted_rf_model.predict(X_test_encoded)\n",
        "time_since_posted_rf_mse = mean_squared_error(y_time_since_posted_test, time_since_posted_rf_predictions)\n",
        "print(\"Mean Squared Error (Time Since Posted - Random Forest):\", time_since_posted_rf_mse)\n"
      ]
    }
  ],
  "metadata": {
    "colab": {
      "provenance": []
    },
    "kernelspec": {
      "display_name": "Python 3 (ipykernel)",
      "language": "python",
      "name": "python3"
    },
    "language_info": {
      "codemirror_mode": {
        "name": "ipython",
        "version": 3
      },
      "file_extension": ".py",
      "mimetype": "text/x-python",
      "name": "python",
      "nbconvert_exporter": "python",
      "pygments_lexer": "ipython3",
      "version": "3.10.0"
    },
    "papermill": {
      "default_parameters": {},
      "duration": 22.666225,
      "end_time": "2023-05-21T19:10:01.609123",
      "environment_variables": {},
      "exception": null,
      "input_path": "__notebook__.ipynb",
      "output_path": "__notebook__.ipynb",
      "parameters": {},
      "start_time": "2023-05-21T19:09:38.942898",
      "version": "2.4.0"
    }
  },
  "nbformat": 4,
  "nbformat_minor": 5
}
