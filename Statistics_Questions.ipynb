{
 "cells": [
  {
   "cell_type": "markdown",
   "metadata": {},
   "source": [
    "Question: 1\n",
    "\n",
    "What is the meaning of six sigma in statistics?  Give proper example\n",
    "\n",
    "\n",
    "Answer:\n",
    "\n",
    "Six Sigma is a statistical approach used to enhance processes and minimize defects to an incredibly low level. When we talk about Six Sigma, we're aiming for a process that has only 3.4 defects per million opportunities, which indicates a very high level of quality and efficiency.\n",
    "\n",
    "Imagine you're running a factory that produces light bulbs. Each bulb needs to have a lifespan of at least 1000 hours to meet customer expectations. However, due to variations in the manufacturing process, some bulbs might fall short of this target.\n",
    "\n",
    "By implementing Six Sigma principles, you'd analyze the entire production process to identify areas where defects could occur. This could involve examining everything from the materials used to the assembly line procedures.\n",
    "\n",
    "For instance, let's say you discover that a significant number of bulbs are failing because of a particular component not being attached properly during assembly. By addressing this issue and fine-tuning the process, you aim to reduce defects to a point where only 3.4 bulbs out of every million produced fall short of the 1000-hour lifespan requirement.\n",
    "\n",
    "Six Sigma is all about achieving near-perfection in manufacturing processes by minimizing variability and defects. It's a systematic approach that focuses on data-driven decision-making and continuous improvement to deliver products and services of the highest quality.\n",
    "\n",
    "\n"
   ]
  },
  {
   "cell_type": "markdown",
   "metadata": {},
   "source": [
    "Question 2:\n",
    "\n",
    "What type of data does not have a log-normal distribution or a Gaussian distribution?  Give proper example\n",
    "\n",
    "Answer:\n",
    "\n",
    "Data that do not follow a log-normal distribution or a Gaussian (normal) distribution are typically referred to as non-normally distributed data. Non-normally distributed data can take various forms and may exhibit different patterns of distribution. Here are a few examples:\n",
    "\n",
    "1. Skewed Data:\n",
    "   Skewed data do not exhibit symmetry around their mean. They can be positively skewed (skewed to the right), where the tail of the distribution extends more to the right, or negatively skewed (skewed to the left), where the tail extends more to the left. An example of positively skewed data could be household income, where a few individuals have very high incomes, creating a long right tail. Conversely, data on response times for customer service calls may be negatively skewed, as most calls are handled relatively quickly, but there are a few outliers with very long waiting times.\n",
    "\n",
    "2. Bimodal or Multimodal Data:\n",
    "   Bimodal or multimodal distributions have more than one peak or mode. An example could be the distribution of test scores for a class where two distinct groups of students emerge, such as those who excel and those who struggle, resulting in two peaks in the distribution.\n",
    "\n",
    "3. Heavy-tailed Distributions:\n",
    "   Heavy-tailed distributions have tails that decay more slowly than those of a normal distribution. This means they have a higher probability of extreme values occurring. Stock market returns are often cited as an example of data with heavy-tailed distributions, as they can exhibit significant fluctuations and extreme values beyond what a normal distribution would predict.\n",
    "\n",
    "4. Discrete Data:\n",
    "   Data that take on discrete values, such as counts of occurrences or categorical data, do not follow a continuous distribution like the normal or log-normal distribution. Examples include the number of customers entering a store each hour or the types of products purchased by customers.\n",
    "\n",
    "5. Mixed Distributions:\n",
    "   Some datasets may exhibit characteristics of multiple distributions, making them challenging to model with a single probability distribution. An example could be the distribution of heights in a population, which may show characteristics of a normal distribution within gender groups but may differ when considered across genders.\n",
    "\n",
    "\n"
   ]
  },
  {
   "cell_type": "markdown",
   "metadata": {},
   "source": [
    "Question 3:\n",
    "\n",
    "What is the meaning of the five-number summary in Statistics? Give proper example\n",
    "\n",
    "#Answer:\n",
    "\n",
    "The five-number summary is a set of descriptive statistics that provides a concise summary of the distribution of a dataset. It includes five key values: the minimum, the first quartile (Q1), the median (Q2), the third quartile (Q3), and the maximum. These values help to understand the central tendency, spread, and shape of a dataset.\n",
    "\n",
    "Here's an explanation of each component of the five-number summary:\n",
    "\n",
    "1. Minimum (Min): The smallest value in the dataset.\n",
    "\n",
    "2. First Quartile (Q1): The median of the lower half of the dataset, representing the 25th percentile. It divides the lower 25% of the data from the remaining 75%.\n",
    "\n",
    "3. Median (Q2): The middle value of the dataset when it is sorted in ascending order. It represents the 50th percentile and is also known as the second quartile.\n",
    "\n",
    "4. Third Quartile (Q3): The median of the upper half of the dataset, representing the 75th percentile. It divides the upper 25% of the data from the lower 75%.\n",
    "\n",
    "5. Maximum (Max): The largest value in the dataset.\n",
    "\n",
    "Let's consider an example to illustrate the five-number summary. \n",
    "Suppose we have the following dataset representing the number of hours spent studying for an exam by a group of students:\n",
    "\n",
    "{2, 5, 7, 8, 10, 12, 15, 18, 20, 25} \n",
    "\n",
    "1. Minimum (Min): 2\n",
    "2. First Quartile (Q1): 7\n",
    "3. Median (Q2): 11\n",
    "4. Third Quartile (Q3): 17\n",
    "5. Maximum (Max): 25\n",
    "\n",
    "This five-number summary tells us that the range of study hours is from 2 to 25. The first quartile (Q1) indicates that 25% of the students studied for 7 hours or less, while the third quartile (Q3) indicates that 75% of the students studied for 17 hours or less. The median (Q2) provides the middle value of the dataset, which is 11 hours in this case. This summary is particularly useful for visualizing the spread and central tendency of a dataset without having to examine the entire dataset.\n",
    "\n"
   ]
  },
  {
   "cell_type": "markdown",
   "metadata": {},
   "source": [
    "Question: 4\n",
    "\n",
    "What is correlation? Give an example with a dataset & graphical representation on jupyter Notebook"
   ]
  },
  {
   "cell_type": "code",
   "execution_count": 3,
   "metadata": {},
   "outputs": [
    {
     "name": "stdout",
     "output_type": "stream",
     "text": [
      "   Hours Studied  Exam Scores\n",
      "0              1           50\n",
      "1              2           55\n",
      "2              3           60\n",
      "3              4           65\n",
      "4              5           70\n",
      "5              6           75\n",
      "6              7           80\n",
      "7              8           85\n",
      "8              9           90\n",
      "9             10           95\n"
     ]
    }
   ],
   "source": [
    "#Answer of 4:\n",
    "\n",
    "\"\"\"Correlation is a statistical measure that describes the strength and direction of a relationship between two variables. It quantifies the extent to which changes in one variable are associated with changes in another variable.\n",
    "\n",
    "There are two primary types of correlation:\n",
    "\n",
    "Positive Correlation: When the values of one variable increase, the values of the other variable also tend to increase. Conversely, when one variable decreases, the other variable tends to decrease as well.\n",
    "\n",
    "Negative Correlation: When the values of one variable increase, the values of the other variable tend to decrease, and vice versa.\"\"\"\n",
    "\n",
    "\n",
    "\n",
    "import numpy as np\n",
    "import pandas as pd\n",
    "import matplotlib.pyplot as plt\n",
    "\n",
    "# sample data\n",
    "hours_studied = [1, 2, 3, 4, 5, 6, 7, 8, 9, 10]\n",
    "exam_scores = [50, 55, 60, 65, 70, 75, 80, 85, 90, 95]\n",
    "\n",
    "# DataFrame\n",
    "data = pd.DataFrame({'Hours Studied': hours_studied, 'Exam Scores': exam_scores})\n",
    "\n",
    "print(data)\n"
   ]
  },
  {
   "cell_type": "code",
   "execution_count": 4,
   "metadata": {},
   "outputs": [
    {
     "name": "stdout",
     "output_type": "stream",
     "text": [
      "Correlation Coefficient: 1.0\n"
     ]
    },
    {
     "data": {
      "image/png": "[encoded data removed]",
      "text/plain": [
       "<Figure size 800x600 with 1 Axes>"
      ]
     },
     "metadata": {},
     "output_type": "display_data"
    }
   ],
   "source": [
    "# Calculating the correlation coefficient\n",
    "correlation_coefficient = data['Hours Studied'].corr(data['Exam Scores'])\n",
    "\n",
    "# Plots\n",
    "plt.figure(figsize=(8, 6))\n",
    "plt.scatter(data['Hours Studied'], data['Exam Scores'], color='blue')\n",
    "plt.title('Hours Studied vs. Exam Scores')\n",
    "plt.xlabel('Hours Studied')\n",
    "plt.ylabel('Exam Scores')\n",
    "plt.grid(True)\n",
    "\n",
    "#correlation coefficient\n",
    "print('Correlation Coefficient:', correlation_coefficient)\n",
    "\n",
    "plt.show()\n"
   ]
  }
 ],
 "metadata": {
  "kernelspec": {
   "display_name": "Python 3",
   "language": "python",
   "name": "python3"
  },
  "language_info": {
   "codemirror_mode": {
    "name": "ipython",
    "version": 3
   },
   "file_extension": ".py",
   "mimetype": "text/x-python",
   "name": "python",
   "nbconvert_exporter": "python",
   "pygments_lexer": "ipython3",
   "version": "3.10.0"
  }
 },
 "nbformat": 4,
 "nbformat_minor": 2
}
